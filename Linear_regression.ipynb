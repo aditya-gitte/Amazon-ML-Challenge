{
 "cells": [
  {
   "cell_type": "code",
   "execution_count": 2,
   "metadata": {},
   "outputs": [],
   "source": [
    "import pandas as pd\n",
    "import numpy as np\n",
    "import matplotlib.pyplot as plt\n",
    "from keras.models import Sequential\n",
    "from keras.layers import Dense"
   ]
  },
  {
   "cell_type": "code",
   "execution_count": 3,
   "metadata": {},
   "outputs": [],
   "source": [
    "subdf = pd.read_csv(\"dataset/sample_submission.csv\")\n",
    "testdf = pd.read_csv(\"dataset/test.csv\")\n",
    "traindf = pd.read_csv(\"dataset/train.csv\")\n"
   ]
  },
  {
   "attachments": {},
   "cell_type": "markdown",
   "metadata": {},
   "source": [
    "# Analysing Tables"
   ]
  },
  {
   "cell_type": "code",
   "execution_count": 4,
   "metadata": {},
   "outputs": [
    {
     "name": "stdout",
     "output_type": "stream",
     "text": [
      "   PRODUCT_ID  PRODUCT_LENGTH\n",
      "0      604373      701.093794\n",
      "1     1729783      734.506163\n",
      "2     1871949      741.360258\n",
      "3     1107571      730.327767\n",
      "4      624253      666.847946\n",
      "\n",
      "\n",
      "PRODUCT_ID          int64\n",
      "PRODUCT_LENGTH    float64\n",
      "dtype: object\n",
      "\n",
      "\n"
     ]
    }
   ],
   "source": [
    "print(subdf.head())\n",
    "print(\"\\n\")\n",
    "print(subdf.dtypes)\n",
    "print(\"\\n\")\n"
   ]
  },
  {
   "cell_type": "code",
   "execution_count": 5,
   "metadata": {},
   "outputs": [
    {
     "name": "stdout",
     "output_type": "stream",
     "text": [
      "   PRODUCT_ID                                              TITLE  \\\n",
      "0     1925202  ArtzFolio Tulip Flowers Blackout Curtain for D...   \n",
      "1     2673191  Marks & Spencer Girls' Pyjama Sets T86_2561C_N...   \n",
      "2     2765088  PRIKNIK Horn Red Electric Air Horn Compressor ...   \n",
      "3     1594019  ALISHAH Women's Cotton Ankle Length Leggings C...   \n",
      "4      283658  The United Empire Loyalists: A Chronicle of th...   \n",
      "\n",
      "                                       BULLET_POINTS  \\\n",
      "0  [LUXURIOUS & APPEALING: Beautiful custom-made ...   \n",
      "1  [Harry Potter Hedwig Pyjamas (6-16 Yrs),100% c...   \n",
      "2  [Loud Dual Tone Trumpet Horn, Compatible With ...   \n",
      "3  [Made By 95%cotton and 5% Lycra which gives yo...   \n",
      "4                                                NaN   \n",
      "\n",
      "                                         DESCRIPTION  PRODUCT_TYPE_ID  \\\n",
      "0                                                NaN             1650   \n",
      "1                                                NaN             2755   \n",
      "2  Specifications: Color: Red, Material: Aluminiu...             7537   \n",
      "3  AISHAH Women's Lycra Cotton Ankel Leggings. Br...             2996   \n",
      "4                                                NaN             6112   \n",
      "\n",
      "   PRODUCT_LENGTH  \n",
      "0     2125.980000  \n",
      "1      393.700000  \n",
      "2      748.031495  \n",
      "3      787.401574  \n",
      "4      598.424000  \n",
      "\n",
      "\n",
      "PRODUCT_ID           int64\n",
      "TITLE               object\n",
      "BULLET_POINTS       object\n",
      "DESCRIPTION         object\n",
      "PRODUCT_TYPE_ID      int64\n",
      "PRODUCT_LENGTH     float64\n",
      "dtype: object\n"
     ]
    }
   ],
   "source": [
    "print(traindf.head())\n",
    "print(\"\\n\")\n",
    "print(traindf.dtypes)"
   ]
  },
  {
   "cell_type": "code",
   "execution_count": 6,
   "metadata": {},
   "outputs": [
    {
     "data": {
      "text/html": [
       "<div>\n",
       "<style scoped>\n",
       "    .dataframe tbody tr th:only-of-type {\n",
       "        vertical-align: middle;\n",
       "    }\n",
       "\n",
       "    .dataframe tbody tr th {\n",
       "        vertical-align: top;\n",
       "    }\n",
       "\n",
       "    .dataframe thead th {\n",
       "        text-align: right;\n",
       "    }\n",
       "</style>\n",
       "<table border=\"1\" class=\"dataframe\">\n",
       "  <thead>\n",
       "    <tr style=\"text-align: right;\">\n",
       "      <th></th>\n",
       "      <th>PRODUCT_ID</th>\n",
       "      <th>TITLE</th>\n",
       "      <th>BULLET_POINTS</th>\n",
       "      <th>DESCRIPTION</th>\n",
       "      <th>PRODUCT_TYPE_ID</th>\n",
       "    </tr>\n",
       "  </thead>\n",
       "  <tbody>\n",
       "    <tr>\n",
       "      <th>0</th>\n",
       "      <td>604373</td>\n",
       "      <td>Manuel d'Héliogravure Et de Photogravure En Re...</td>\n",
       "      <td>NaN</td>\n",
       "      <td>NaN</td>\n",
       "      <td>6142</td>\n",
       "    </tr>\n",
       "    <tr>\n",
       "      <th>1</th>\n",
       "      <td>1729783</td>\n",
       "      <td>DCGARING Microfiber Throw Blanket Warm Fuzzy P...</td>\n",
       "      <td>[QUALITY GUARANTEED: Luxury cozy plush polyest...</td>\n",
       "      <td>&lt;b&gt;DCGARING Throw Blanket&lt;/b&gt;&lt;br&gt;&lt;br&gt; &lt;b&gt;Size ...</td>\n",
       "      <td>1622</td>\n",
       "    </tr>\n",
       "    <tr>\n",
       "      <th>2</th>\n",
       "      <td>1871949</td>\n",
       "      <td>I-Match Auto Parts Front License Plate Bracket...</td>\n",
       "      <td>[Front License Plate Bracket Made Of Plastic,D...</td>\n",
       "      <td>Replacement for The Following Vehicles:2020 LE...</td>\n",
       "      <td>7540</td>\n",
       "    </tr>\n",
       "    <tr>\n",
       "      <th>3</th>\n",
       "      <td>1107571</td>\n",
       "      <td>PinMart Gold Plated Excellence in Service 1 Ye...</td>\n",
       "      <td>[Available as a single item or bulk packed. Se...</td>\n",
       "      <td>Our Excellence in Service Lapel Pins feature a...</td>\n",
       "      <td>12442</td>\n",
       "    </tr>\n",
       "    <tr>\n",
       "      <th>4</th>\n",
       "      <td>624253</td>\n",
       "      <td>Visual Mathematics, Illustrated by the TI-92 a...</td>\n",
       "      <td>NaN</td>\n",
       "      <td>NaN</td>\n",
       "      <td>6318</td>\n",
       "    </tr>\n",
       "  </tbody>\n",
       "</table>\n",
       "</div>"
      ],
      "text/plain": [
       "   PRODUCT_ID                                              TITLE  \\\n",
       "0      604373  Manuel d'Héliogravure Et de Photogravure En Re...   \n",
       "1     1729783  DCGARING Microfiber Throw Blanket Warm Fuzzy P...   \n",
       "2     1871949  I-Match Auto Parts Front License Plate Bracket...   \n",
       "3     1107571  PinMart Gold Plated Excellence in Service 1 Ye...   \n",
       "4      624253  Visual Mathematics, Illustrated by the TI-92 a...   \n",
       "\n",
       "                                       BULLET_POINTS  \\\n",
       "0                                                NaN   \n",
       "1  [QUALITY GUARANTEED: Luxury cozy plush polyest...   \n",
       "2  [Front License Plate Bracket Made Of Plastic,D...   \n",
       "3  [Available as a single item or bulk packed. Se...   \n",
       "4                                                NaN   \n",
       "\n",
       "                                         DESCRIPTION  PRODUCT_TYPE_ID  \n",
       "0                                                NaN             6142  \n",
       "1  <b>DCGARING Throw Blanket</b><br><br> <b>Size ...             1622  \n",
       "2  Replacement for The Following Vehicles:2020 LE...             7540  \n",
       "3  Our Excellence in Service Lapel Pins feature a...            12442  \n",
       "4                                                NaN             6318  "
      ]
     },
     "execution_count": 6,
     "metadata": {},
     "output_type": "execute_result"
    }
   ],
   "source": [
    "testdf.head()"
   ]
  },
  {
   "cell_type": "code",
   "execution_count": 10,
   "metadata": {},
   "outputs": [
    {
     "name": "stdout",
     "output_type": "stream",
     "text": [
      "[Simple and elegant, great for displaying indoor plants like succulent plants, air plants, seedling, herbs etc.,High Quality - Both Indoor/outdoor planter stand and flower pots are made of wrought iron material, with powder coated paint, rustproof and durable.,Pefect decor for living room, balcony and garden.,BEST QUALITY, STRONG AND DURABLE - The surface of the pot holder is rust-proofed and it can be used for a longer time.,The elevated indoor potted plant stand can make watering easier and give the plant a better space to grow.,A pragmatic and eco-friendly gift for any nature lover, gardening hobbyist or home decorist.,Note : Plants are only for display.These are not included with Planter,Please allow 0~2cm errors due to manual measurement.]\n"
     ]
    }
   ],
   "source": [
    "print(traindf['BULLET_POINTS'][5])"
   ]
  },
  {
   "cell_type": "code",
   "execution_count": 13,
   "metadata": {},
   "outputs": [
    {
     "name": "stdout",
     "output_type": "stream",
     "text": [
      "<p><strong>Aluminum Foil Stickers-good kitchen helper for mom and wife.&nbsp;</strong><br><br><strong>Specification: &nbsp;</strong><br><strong>-Materials: high-quality PVC &nbsp;</strong><br><strong>-Size: 2 MT&nbsp;</strong><br><strong>-Color: Silver &nbsp;</strong><br><strong>-Friendly note: Please buy enough rolls at a time to make sure that these wallpaper comes from the same batch to avoid color difference. &nbsp;</strong><br><strong>-This Aluminum Foil Stickers can be used for any dry, clean and smooth surface.&nbsp;</strong><br><br><strong>Features: &nbsp;</strong><br><strong>1.High temperature resistant material is suitable for kitchen, which resists temperatures up to 250 Celsius. It can be used for a long time and will not deform. &nbsp;</strong><br><strong>2.Easily to cut up: A grid line in square on the back, easy for you get the size you need when you cut.&nbsp;</strong><br><br><strong>How to use? &nbsp;</strong><br><strong>1.Before sticking the kitchen oil proof wallpaper, please clean and dry surface with mild soap and water. Make sure that surface is flat and without any carve. &nbsp;</strong><br><strong>2.Just cut out the size you want. &nbsp;</strong><br><strong>3.Use dishcloth or card to remove any air bubbles.&nbsp;</strong><br><br><strong>Package Included: &nbsp;</strong><br><strong>1 × Kitchen Backsplash Wallpaper&nbsp;</strong><br><br><strong>100% SATISFACTION GUARANTEED: &nbsp;</strong><br><strong>We are always available to provide professional customer service before and after your purchase, so don't wait any longer and enjoy it right now.&nbsp;</strong><br><br>&nbsp;</p>\n"
     ]
    }
   ],
   "source": [
    "print(traindf['DESCRIPTION'][7])"
   ]
  },
  {
   "attachments": {},
   "cell_type": "markdown",
   "metadata": {},
   "source": [
    "# Plots to check the correlation"
   ]
  },
  {
   "cell_type": "code",
   "execution_count": 13,
   "metadata": {},
   "outputs": [
    {
     "name": "stdout",
     "output_type": "stream",
     "text": [
      "0.0009609601257185689\n"
     ]
    }
   ],
   "source": [
    "# calculate correlation coefficient between the two columns\n",
    "corr = traindf['PRODUCT_TYPE_ID'].corr(traindf['PRODUCT_LENGTH'])\n",
    "print(corr)"
   ]
  },
  {
   "cell_type": "code",
   "execution_count": 14,
   "metadata": {},
   "outputs": [
    {
     "data": {
      "image/png": "[encoded data removed]",
      "text/plain": [
       "<Figure size 640x480 with 1 Axes>"
      ]
     },
     "metadata": {},
     "output_type": "display_data"
    }
   ],
   "source": [
    "# plot a scatter plot with correlation coefficient as title\n",
    "plt.scatter(traindf['PRODUCT_TYPE_ID'], traindf['PRODUCT_LENGTH'])\n",
    "plt.title('Correlation: ' + str(corr))\n",
    "plt.xlabel('PRODUCT_TYPE_ID')\n",
    "plt.ylabel('PRODUCT_LENGTH')\n",
    "plt.show()"
   ]
  },
  {
   "attachments": {},
   "cell_type": "markdown",
   "metadata": {},
   "source": [
    "# Implementing Linear Refression using Keras"
   ]
  },
  {
   "cell_type": "code",
   "execution_count": 22,
   "metadata": {},
   "outputs": [],
   "source": [
    "# select 20000 random rows\n",
    "train_df_sample = traindf.sample(n=20000, random_state=42)"
   ]
  },
  {
   "cell_type": "code",
   "execution_count": 23,
   "metadata": {},
   "outputs": [],
   "source": [
    "x = train_df_sample['PRODUCT_TYPE_ID'].values\n",
    "y = train_df_sample['PRODUCT_LENGTH'].values"
   ]
  },
  {
   "cell_type": "code",
   "execution_count": 24,
   "metadata": {},
   "outputs": [],
   "source": [
    "# create the model\n",
    "model = Sequential()\n",
    "model.add(Dense(1, input_shape=(1,)))"
   ]
  },
  {
   "cell_type": "code",
   "execution_count": 25,
   "metadata": {},
   "outputs": [],
   "source": [
    "# compile the model\n",
    "model.compile(loss='mean_squared_error', optimizer='adam')"
   ]
  },
  {
   "cell_type": "code",
   "execution_count": 26,
   "metadata": {},
   "outputs": [
    {
     "name": "stdout",
     "output_type": "stream",
     "text": [
      "Epoch 1/50\n",
      "20000/20000 [==============================] - 60s 3ms/step - loss: 10896971776.0000\n",
      "Epoch 2/50\n",
      "20000/20000 [==============================] - 59s 3ms/step - loss: 10896660480.0000\n",
      "Epoch 3/50\n",
      "20000/20000 [==============================] - 62s 3ms/step - loss: 10896700416.0000\n",
      "Epoch 4/50\n",
      "20000/20000 [==============================] - 62s 3ms/step - loss: 10896800768.0000\n",
      "Epoch 5/50\n",
      "20000/20000 [==============================] - 59s 3ms/step - loss: 10896945152.0000\n",
      "Epoch 6/50\n",
      "20000/20000 [==============================] - 59s 3ms/step - loss: 10897206272.0000\n",
      "Epoch 7/50\n",
      "20000/20000 [==============================] - 59s 3ms/step - loss: 10896405504.0000\n",
      "Epoch 8/50\n",
      "20000/20000 [==============================] - 59s 3ms/step - loss: 10896887808.0000\n",
      "Epoch 9/50\n",
      "20000/20000 [==============================] - 60s 3ms/step - loss: 10896766976.0000\n",
      "Epoch 10/50\n",
      "20000/20000 [==============================] - 59s 3ms/step - loss: 10896795648.0000\n",
      "Epoch 11/50\n",
      "20000/20000 [==============================] - 59s 3ms/step - loss: 10896808960.0000\n",
      "Epoch 12/50\n",
      "20000/20000 [==============================] - 60s 3ms/step - loss: 10896367616.0000\n",
      "Epoch 13/50\n",
      "20000/20000 [==============================] - 60s 3ms/step - loss: 10896771072.0000\n",
      "Epoch 14/50\n",
      "20000/20000 [==============================] - 59s 3ms/step - loss: 10896966656.0000\n",
      "Epoch 15/50\n",
      "20000/20000 [==============================] - 59s 3ms/step - loss: 10897027072.0000\n",
      "Epoch 16/50\n",
      "20000/20000 [==============================] - 58s 3ms/step - loss: 10896750592.0000\n",
      "Epoch 17/50\n",
      "20000/20000 [==============================] - 59s 3ms/step - loss: 10896528384.0000\n",
      "Epoch 18/50\n",
      "20000/20000 [==============================] - 59s 3ms/step - loss: 10896808960.0000\n",
      "Epoch 19/50\n",
      "20000/20000 [==============================] - 58s 3ms/step - loss: 10896669696.0000\n",
      "Epoch 20/50\n",
      "20000/20000 [==============================] - 54s 3ms/step - loss: 10896866304.0000\n",
      "Epoch 21/50\n",
      "20000/20000 [==============================] - 56s 3ms/step - loss: 10897028096.0000\n",
      "Epoch 22/50\n",
      "20000/20000 [==============================] - 60s 3ms/step - loss: 10896448512.0000\n",
      "Epoch 23/50\n",
      "20000/20000 [==============================] - 65s 3ms/step - loss: 10896488448.0000\n",
      "Epoch 24/50\n",
      "20000/20000 [==============================] - 65s 3ms/step - loss: 10896739328.0000\n",
      "Epoch 25/50\n",
      "20000/20000 [==============================] - 64s 3ms/step - loss: 10897003520.0000\n",
      "Epoch 26/50\n",
      "20000/20000 [==============================] - 64s 3ms/step - loss: 10896699392.0000\n",
      "Epoch 27/50\n",
      "20000/20000 [==============================] - 65s 3ms/step - loss: 10897034240.0000\n",
      "Epoch 28/50\n",
      "20000/20000 [==============================] - 64s 3ms/step - loss: 10896655360.0000\n",
      "Epoch 29/50\n",
      "20000/20000 [==============================] - 65s 3ms/step - loss: 10897050624.0000\n",
      "Epoch 30/50\n",
      "20000/20000 [==============================] - 64s 3ms/step - loss: 10897088512.0000\n",
      "Epoch 31/50\n",
      "20000/20000 [==============================] - 64s 3ms/step - loss: 10896676864.0000\n",
      "Epoch 32/50\n",
      "20000/20000 [==============================] - 64s 3ms/step - loss: 10896948224.0000\n",
      "Epoch 33/50\n",
      "20000/20000 [==============================] - 63s 3ms/step - loss: 10896575488.0000\n",
      "Epoch 34/50\n",
      "20000/20000 [==============================] - 62s 3ms/step - loss: 10896636928.0000\n",
      "Epoch 35/50\n",
      "20000/20000 [==============================] - 62s 3ms/step - loss: 10896830464.0000\n",
      "Epoch 36/50\n",
      "20000/20000 [==============================] - 59s 3ms/step - loss: 10896492544.0000\n",
      "Epoch 37/50\n",
      "20000/20000 [==============================] - 64s 3ms/step - loss: 10897147904.0000\n",
      "Epoch 38/50\n",
      "20000/20000 [==============================] - 65s 3ms/step - loss: 10896405504.0000\n",
      "Epoch 39/50\n",
      "20000/20000 [==============================] - 65s 3ms/step - loss: 10897035264.0000\n",
      "Epoch 40/50\n",
      "20000/20000 [==============================] - 64s 3ms/step - loss: 10896838656.0000\n",
      "Epoch 41/50\n",
      "20000/20000 [==============================] - 64s 3ms/step - loss: 10896455680.0000\n",
      "Epoch 42/50\n",
      "20000/20000 [==============================] - 65s 3ms/step - loss: 10896879616.0000\n",
      "Epoch 43/50\n",
      "20000/20000 [==============================] - 64s 3ms/step - loss: 10897087488.0000\n",
      "Epoch 44/50\n",
      "20000/20000 [==============================] - 64s 3ms/step - loss: 10896623616.0000\n",
      "Epoch 45/50\n",
      "20000/20000 [==============================] - 64s 3ms/step - loss: 10896594944.0000\n",
      "Epoch 46/50\n",
      "20000/20000 [==============================] - 64s 3ms/step - loss: 10896105472.0000\n",
      "Epoch 47/50\n",
      "20000/20000 [==============================] - 64s 3ms/step - loss: 10897177600.0000\n",
      "Epoch 48/50\n",
      "20000/20000 [==============================] - 65s 3ms/step - loss: 10896891904.0000\n",
      "Epoch 49/50\n",
      "20000/20000 [==============================] - 65s 3ms/step - loss: 10896657408.0000\n",
      "Epoch 50/50\n",
      "20000/20000 [==============================] - 64s 3ms/step - loss: 10896756736.0000\n"
     ]
    },
    {
     "data": {
      "text/plain": [
       "<keras.callbacks.History at 0x375d5acb0>"
      ]
     },
     "execution_count": 26,
     "metadata": {},
     "output_type": "execute_result"
    }
   ],
   "source": [
    "# fit the model to the data\n",
    "model.fit(x, y, epochs=50, batch_size=1, verbose=1)"
   ]
  },
  {
   "cell_type": "code",
   "execution_count": 27,
   "metadata": {},
   "outputs": [
    {
     "name": "stdout",
     "output_type": "stream",
     "text": [
      "625/625 [==============================] - 1s 2ms/step\n"
     ]
    }
   ],
   "source": [
    "# make predictions using the model\n",
    "y_pred = model.predict(x)"
   ]
  },
  {
   "cell_type": "code",
   "execution_count": 28,
   "metadata": {},
   "outputs": [
    {
     "data": {
      "image/png": "[encoded data removed]",
      "text/plain": [
       "<Figure size 640x480 with 1 Axes>"
      ]
     },
     "metadata": {},
     "output_type": "display_data"
    }
   ],
   "source": [
    "# plot actual vs predicted values\n",
    "plt.scatter(x, y)\n",
    "plt.plot(x, y_pred, color='red')\n",
    "plt.title('Actual vs Predicted Values')\n",
    "plt.xlabel('Parameter')\n",
    "plt.ylabel('Target')\n",
    "plt.show()"
   ]
  }
 ],
 "metadata": {
  "kernelspec": {
   "display_name": "DataScience",
   "language": "python",
   "name": "python3"
  },
  "language_info": {
   "codemirror_mode": {
    "name": "ipython",
    "version": 3
   },
   "file_extension": ".py",
   "mimetype": "text/x-python",
   "name": "python",
   "nbconvert_exporter": "python",
   "pygments_lexer": "ipython3",
   "version": "3.10.11"
  },
  "orig_nbformat": 4
 },
 "nbformat": 4,
 "nbformat_minor": 2
}
