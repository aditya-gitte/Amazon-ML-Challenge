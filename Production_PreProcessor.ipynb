{
 "cells": [
  {
   "cell_type": "code",
   "execution_count": null,
   "metadata": {},
   "outputs": [],
   "source": [
    "import pandas as pd\n",
    "import yake\n",
    "import re"
   ]
  },
  {
   "cell_type": "code",
   "execution_count": null,
   "metadata": {},
   "outputs": [],
   "source": [
    "# Importing dataset, enter the path of the csv file\n",
    "sum_df = pd.read_csv(\"dataset/train.csv\")\n",
    "sum_df['NUMERIC_DATA'] = ''\n",
    "sum_df=sum_df.dropna()"
   ]
  },
  {
   "cell_type": "code",
   "execution_count": null,
   "metadata": {},
   "outputs": [],
   "source": [
    "def getKeywords(text):\n",
    "\n",
    "    # Create a YAKE keyword extractor\n",
    "    kw_extractor = yake.KeywordExtractor(lan=\"en\", n=1, dedupLim=0.9, top=20)\n",
    "\n",
    "    # Extract numeric values and replace with \"NUMERIC\"\n",
    "    numeric_values = []\n",
    "    text_tokens = []\n",
    "    for token in text.split():\n",
    "        if token.replace(\".\", \"\").isnumeric():\n",
    "            numeric_values.append(token)\n",
    "            text_tokens.append(\"NUMERIC\")\n",
    "        else:\n",
    "            text_tokens.append(token)\n",
    "\n",
    "    # Convert text tokens back to a string\n",
    "    text = \" \".join(text_tokens)\n",
    "\n",
    "    # Extract keywords from the modified text\n",
    "    keywords = kw_extractor.extract_keywords(text)\n",
    "\n",
    "    # Replace \"NUMERIC\" with the original numeric values\n",
    "    for i, keyword in enumerate(keywords):\n",
    "        if keyword[0] == \"NUMERIC\":\n",
    "            keywords[i] = (numeric_values.pop(0), keyword[1])\n",
    "\n",
    "    opstr=\"\"\n",
    "    for i in keywords:\n",
    "        opstr=opstr+i[0]+\",\"\n",
    "    \n",
    "    # return the keywords\n",
    "    return opstr"
   ]
  },
  {
   "cell_type": "code",
   "execution_count": null,
   "metadata": {},
   "outputs": [],
   "source": [
    "def numeric_data_extractor(description):\n",
    "    # description = \"Made,Hard,Polycarbonate,Plastic,3,Case,cover,sides,back,mobile,printed,bumps,protects,scratches,premier,\"\n",
    "\n",
    "    length_pattern = r\"\\b(?:\\d+(?:\\s\\d+/\\d+)?(?:\\.\\d+)?|\\d+/\\d+)(?:\\s*\\*\\s*(?:\\d+(?:\\s\\d+/\\d+)?(?:\\.\\d+)?|\\d+/\\d+))*\\s*(?:cm|mm|m|in(?:ch(?:es)?)?|ft|foot|feet|yd|yard|')?\\b\"\n",
    "    # length_pattern = r\"\\b(?:\\d+(?:\\.\\d+)?|\\d+/\\d+)(?:\\s*\\*\\s*(?:\\d+(?:\\.\\d+)?|\\d+/\\d+))*\\s*(?:cm|mm|m|in(?:ch(?:es)?)?|ft|foot|feet|yd|yard|')?\\b\"\n",
    "    # length_pattern = r'(\\d+(?:\\.\\d+)?(?:/\\d+)?(?:\\s*\\*\\s*\\d+(?:\\.\\d+)?(?:/\\d+)?){0,2})(?:\\s*(?:feet|ft|meters|m|centimeters|cm|inches|in|\"))?'\n",
    "\n",
    "    lengths = re.findall(length_pattern, description, re.IGNORECASE)\n",
    "\n",
    "    \n",
    "\n",
    "    opstr=\"\"\n",
    "    for i in lengths:\n",
    "        opstr=opstr+i+\",\"\n",
    "    \n",
    "    return opstr"
   ]
  },
  {
   "cell_type": "code",
   "execution_count": null,
   "metadata": {},
   "outputs": [],
   "source": [
    "# Set the column name\n",
    "column_name_1 = \"TITLE\"\n",
    "column_name_2 = \"BULLET_POINTS\"\n",
    "column_name_3 = \"DESCRIPTION\"\n",
    "\n",
    "# Loop through each row in the dataframe\n",
    "for index, row in sum_df.iterrows():\n",
    "    # Extract the text to be summarized from the column\n",
    "    text_1 = row[column_name_1]\n",
    "    text_2 = row[column_name_2]\n",
    "    text_3 = row[column_name_3]\n",
    "\n",
    "    inpstr= text_1+\" \"+text_2+\" \"+text_3\n",
    "    \n",
    "    # Use get numeric data\n",
    "    ndata=numeric_data_extractor(inpstr)\n",
    "\n",
    "    # Replace the original text with the summary in the same column\n",
    "    sum_df.at[index, 'NUMERIC_DATA'] = ndata"
   ]
  },
  {
   "cell_type": "code",
   "execution_count": null,
   "metadata": {},
   "outputs": [],
   "source": [
    "# Set the column name\n",
    "column_name = \"DESCRIPTION\"\n",
    "\n",
    "# Loop through each row in the dataframe\n",
    "for index, row in sum_df.iterrows():\n",
    "    # Extract the text to be summarized from the column\n",
    "    text = row[column_name]\n",
    "    \n",
    "    # Use yake to extract 20 keywords \n",
    "    kw=getKeywords(text)\n",
    "\n",
    "    # Replace the original text with the summary in the same column\n",
    "    sum_df.at[index, column_name] = kw"
   ]
  },
  {
   "cell_type": "code",
   "execution_count": null,
   "metadata": {},
   "outputs": [],
   "source": [
    "# Set the column name\n",
    "column_name = \"BULLET_POINTS\"\n",
    "\n",
    "# Loop through each row in the dataframe\n",
    "for index, row in sum_df.iterrows():\n",
    "    # Extract the text to be summarized from the column\n",
    "    text = row[column_name]\n",
    "    \n",
    "    # Use yake to extract 20 keywords \n",
    "    kw=getKeywords(text)\n",
    "\n",
    "    # Replace the original text with the summary in the same column\n",
    "    sum_df.at[index, column_name] = kw"
   ]
  }
 ],
 "metadata": {
  "kernelspec": {
   "display_name": "DataScience",
   "language": "python",
   "name": "python3"
  },
  "language_info": {
   "codemirror_mode": {
    "name": "ipython",
    "version": 3
   },
   "file_extension": ".py",
   "mimetype": "text/x-python",
   "name": "python",
   "nbconvert_exporter": "python",
   "pygments_lexer": "ipython3",
   "version": "3.10.11"
  },
  "orig_nbformat": 4
 },
 "nbformat": 4,
 "nbformat_minor": 2
}
